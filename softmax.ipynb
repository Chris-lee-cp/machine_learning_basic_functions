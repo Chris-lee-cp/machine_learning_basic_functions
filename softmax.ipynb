{
 "cells": [
  {
   "cell_type": "code",
   "execution_count": 1,
   "metadata": {
    "collapsed": true
   },
   "outputs": [],
   "source": [
    "# softmax function. \n",
    "# input parameter : numbers (receive list of numbers) \n",
    "# return : list values which were calculated by softmax function.\n",
    "\n",
    "import numpy as np\n",
    "\n",
    "def softmax(numbers):\n",
    "    denominator = 0\n",
    "    result = []\n",
    "    for num in numbers:\n",
    "        denominator = denominator + np.exp(num)\n",
    "        \n",
    "    for num in numbers:\n",
    "        result.append(np.exp(num) / denominator)\n",
    "        \n",
    "    return result"
   ]
  },
  {
   "cell_type": "code",
   "execution_count": 2,
   "metadata": {},
   "outputs": [
    {
     "name": "stdout",
     "output_type": "stream",
     "text": [
      "[0.00032852102667372239, 0.002427460295770427, 0.017936640303374475, 0.97930737837418147]\n"
     ]
    }
   ],
   "source": [
    "numbers = [2, 4, 6, 10]\n",
    "softmax_values = softmax(numbers)\n",
    "print (softmax_values)"
   ]
  },
  {
   "cell_type": "code",
   "execution_count": null,
   "metadata": {
    "collapsed": true
   },
   "outputs": [],
   "source": []
  }
 ],
 "metadata": {
  "kernelspec": {
   "display_name": "Python 3",
   "language": "python",
   "name": "python3"
  },
  "language_info": {
   "codemirror_mode": {
    "name": "ipython",
    "version": 3
   },
   "file_extension": ".py",
   "mimetype": "text/x-python",
   "name": "python",
   "nbconvert_exporter": "python",
   "pygments_lexer": "ipython3",
   "version": "3.6.1"
  }
 },
 "nbformat": 4,
 "nbformat_minor": 2
}
